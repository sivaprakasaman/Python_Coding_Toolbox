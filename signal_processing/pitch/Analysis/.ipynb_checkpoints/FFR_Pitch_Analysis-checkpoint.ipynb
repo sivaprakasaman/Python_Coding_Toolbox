{
 "cells": [
  {
   "cell_type": "code",
   "execution_count": 1,
   "id": "fixed-grenada",
   "metadata": {},
   "outputs": [
    {
     "name": "stdout",
     "output_type": "stream",
     "text": [
      "Using matplotlib backend: TkAgg\n",
      "/mnt/20D22780D22758F4/Shared/Code/Python_Coding_Toolbox/Data\n"
     ]
    },
    {
     "name": "stderr",
     "output_type": "stream",
     "text": [
      "/mnt/20D22780D22758F4/Shared/Code/Python_Coding_Toolbox/signal_processing/pitch/Analysis/signal_processing.py:268: UserWarning: shading value 'goraud' not in list of valid values ['gouraud', 'nearest', 'flat', 'auto']. Setting shading='auto'.\n",
      "  plt.pcolormesh(t,f,Sgram_dB, shading = shading, cmap = colormap);\n"
     ]
    }
   ],
   "source": [
    "import os, glob\n",
    "from scipy.io import loadmat\n",
    "import numpy as np\n",
    "from signal_processing import get_spect\n",
    "#import mat73\n",
    "\n",
    "%matplotlib\n",
    "\n",
    "subject_ID = 'Q406';\n",
    "cond = 'TTS';\n",
    "\n",
    "#hacky, fix this please\n",
    "data_dir = os.getcwd()[:-32]+'Data';\n",
    "print(data_dir)\n",
    "subj_dir = data_dir + '/FFR/' + cond + '/' + subject_ID;\n",
    "os.chdir(subj_dir);\n",
    "\n",
    "files = glob.glob('p*');\n",
    "\n",
    "for f in files:\n",
    "    mat = loadmat(f);\n",
    "    fs = np.squeeze(mat['data'][0]['Stimuli'][0]['RPsamprate_Hz'][0][0]);\n",
    "    pos = mat['data'][0]['AD_Data'][0]['AD_Avg_PO_V'][0][0][0]\n",
    "    neg = mat['data'][0]['AD_Data'][0]['AD_Avg_NP_V'][0][0][0]\n",
    "    pos_abr = np.squeeze(pos[0][0][0]);\n",
    "    neg_abr = np.squeeze(neg[0][0][0]);\n",
    "    pos_ecochg = np.squeeze(pos[1][0][0]);\n",
    "    neg_ecochg = np.squeeze(neg[1][0][0]);\n",
    "    \n",
    "    env_abr = (pos_abr + neg_abr)/2; \n",
    "    tfs_abr = (pos_abr - neg_abr)/2;\n",
    "    \n",
    "    env_ecochg = (pos_ecochg + neg_ecochg)/2; \n",
    "    tfs_ecochg = (pos_ecochg - neg_ecochg)/2;\n",
    "    \n",
    "    get_spect(env_ecochg, fs, DR = 300, BW = 200, xlim = [0,1.4], ylim = [0,6e3], \n",
    "           colormap = 'Reds', title = f);\n",
    "    get_spect(tfs_ecochg, fs, DR = 300, BW = 200, xlim = [0,1.4], ylim = [0,6e3], \n",
    "           colormap = 'Reds', title = f);    \n",
    "\n"
   ]
  },
  {
   "cell_type": "code",
   "execution_count": null,
   "id": "lesbian-consciousness",
   "metadata": {},
   "outputs": [],
   "source": []
  }
 ],
 "metadata": {
  "kernelspec": {
   "display_name": "Python 3",
   "language": "python",
   "name": "python3"
  },
  "language_info": {
   "codemirror_mode": {
    "name": "ipython",
    "version": 3
   },
   "file_extension": ".py",
   "mimetype": "text/x-python",
   "name": "python",
   "nbconvert_exporter": "python",
   "pygments_lexer": "ipython3",
   "version": "3.9.4"
  }
 },
 "nbformat": 4,
 "nbformat_minor": 5
}
