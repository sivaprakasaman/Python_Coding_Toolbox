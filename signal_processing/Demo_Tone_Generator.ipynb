{
 "cells": [
  {
   "cell_type": "markdown",
   "metadata": {},
   "source": [
    "# Signal/Tone Generator Demo | BME 511 P1"
   ]
  },
  {
   "cell_type": "code",
   "execution_count": 5,
   "metadata": {},
   "outputs": [],
   "source": [
    "#imports needed\n",
    "import numpy as np\n",
    "import matplotlib.pyplot as plt"
   ]
  },
  {
   "cell_type": "code",
   "execution_count": 6,
   "metadata": {},
   "outputs": [],
   "source": [
    "#Creating the Function:\n",
    "def pure_tone_complex(freq_Hz, fs_Hz, dur_sec, amp, phi):\n",
    "    #Returns an 1x2 array with signal and time\n",
    "    \n",
    "    #probably would be good to add some checks here\n",
    "    \n",
    "    time_sec = np.arange(0,1/fs_Hz,(dur_sec-1)/fs_Hz)\n",
    "    \n",
    "    #Initializing Signal\n",
    "    sig = amp.*sin(2*pi*freq_Hz*time_sec + phi)\n",
    "    \n",
    "    \n",
    "    \n",
    "    print(x)"
   ]
  },
  {
   "cell_type": "code",
   "execution_count": 8,
   "metadata": {},
   "outputs": [
    {
     "name": "stdout",
     "output_type": "stream",
     "text": [
      "[-3.14159265 -2.44346095 -1.74532925 -1.04719755 -0.34906585  0.34906585\n",
      "  1.04719755  1.74532925  2.44346095  3.14159265]\n"
     ]
    }
   ],
   "source": [
    "#running function:\n",
    "\n",
    "freq_Hz = 100;\n",
    "fs_Hz = 10000;\n",
    "dur_sec = 1;\n",
    "amp = 1;\n",
    "phi = 0;\n",
    "\n",
    "\n",
    "\n",
    "\n",
    "pure_tone_complex(freq_Hz, fs_Hz, dur_sec, amp, phi)"
   ]
  },
  {
   "cell_type": "code",
   "execution_count": null,
   "metadata": {},
   "outputs": [],
   "source": []
  }
 ],
 "metadata": {
  "kernelspec": {
   "display_name": "Python 3",
   "language": "python",
   "name": "python3"
  },
  "language_info": {
   "codemirror_mode": {
    "name": "ipython",
    "version": 3
   },
   "file_extension": ".py",
   "mimetype": "text/x-python",
   "name": "python",
   "nbconvert_exporter": "python",
   "pygments_lexer": "ipython3",
   "version": "3.8.2"
  }
 },
 "nbformat": 4,
 "nbformat_minor": 4
}
