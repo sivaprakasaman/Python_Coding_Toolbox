{
 "cells": [
  {
   "cell_type": "markdown",
   "metadata": {},
   "source": [
    "# Signal/Tone Generator Demo | BME 511 P1"
   ]
  },
  {
   "cell_type": "code",
   "execution_count": 1,
   "metadata": {},
   "outputs": [
    {
     "ename": "ModuleNotFoundError",
     "evalue": "No module named 'numpy'",
     "output_type": "error",
     "traceback": [
      "\u001b[0;31m---------------------------------------------------------------------------\u001b[0m",
      "\u001b[0;31mModuleNotFoundError\u001b[0m                       Traceback (most recent call last)",
      "\u001b[0;32m<ipython-input-1-96db21fbf2f6>\u001b[0m in \u001b[0;36m<module>\u001b[0;34m\u001b[0m\n\u001b[1;32m      1\u001b[0m \u001b[0;31m#imports needed\u001b[0m\u001b[0;34m\u001b[0m\u001b[0;34m\u001b[0m\u001b[0;34m\u001b[0m\u001b[0m\n\u001b[0;32m----> 2\u001b[0;31m \u001b[0;32mimport\u001b[0m \u001b[0mnumpy\u001b[0m \u001b[0;32mas\u001b[0m \u001b[0mnp\u001b[0m\u001b[0;34m\u001b[0m\u001b[0;34m\u001b[0m\u001b[0m\n\u001b[0m\u001b[1;32m      3\u001b[0m \u001b[0;32mimport\u001b[0m \u001b[0mmatplotlib\u001b[0m\u001b[0;34m.\u001b[0m\u001b[0mpyplot\u001b[0m \u001b[0;32mas\u001b[0m \u001b[0mplt\u001b[0m\u001b[0;34m\u001b[0m\u001b[0;34m\u001b[0m\u001b[0m\n\u001b[1;32m      4\u001b[0m \u001b[0;34m\u001b[0m\u001b[0m\n\u001b[1;32m      5\u001b[0m \u001b[0;31m#Creating the Function:\u001b[0m\u001b[0;34m\u001b[0m\u001b[0;34m\u001b[0m\u001b[0;34m\u001b[0m\u001b[0m\n",
      "\u001b[0;31mModuleNotFoundError\u001b[0m: No module named 'numpy'"
     ]
    }
   ],
   "source": [
    "#imports needed\n",
    "import numpy as np\n",
    "import matplotlib.pyplot as plt\n",
    "\n",
    "#Creating the Function:\n",
    "def pure_tone_complex(freq_Hz, fs_Hz, dur_sec, amp, phi):\n",
    "    #Returns an 1x2 array with signal and time\n",
    "    \n",
    "    #probably would be good to add some checks here\n",
    "    \n",
    "    samples = np.arange(0,fs_Hz*dur_sec)\n",
    "    time_sec = samples/fs_Hz\n",
    "    #Initializing Signal\n",
    "    sig = [];\n",
    "    \n",
    "    for i in range(0,len(freq_Hz)):\n",
    "        sig_temp = amp[i]*np.sin(2*np.pi*freq_Hz[i]*time_sec + phi[i])\n",
    "        sig_arr = np.array(sig_temp)\n",
    "        \n",
    "        if i == 0:\n",
    "            sig = np.array(sig_temp)\n",
    "        else:\n",
    "            sig = np.vstack((sig,sig_arr))\n",
    "            \n",
    "    sig_total = sig.sum(axis = 0)\n",
    "    return([time_sec, sig_total])\n",
    "\n",
    "#running function:\n",
    "\n",
    "freq_Hz = [100, 200];\n",
    "fs_Hz = 10000;\n",
    "dur_sec = 1;\n",
    "amp = [1, 1];\n",
    "phi = [0, 0];\n",
    "\n",
    "tone = pure_tone_complex(freq_Hz, fs_Hz, dur_sec, amp, phi)\n",
    "plt.plot(tone[0],tone[1])"
   ]
  },
  {
   "cell_type": "code",
   "execution_count": null,
   "metadata": {},
   "outputs": [],
   "source": []
  },
  {
   "cell_type": "code",
   "execution_count": null,
   "metadata": {},
   "outputs": [],
   "source": []
  }
 ],
 "metadata": {
  "kernelspec": {
   "display_name": "Python 3",
   "language": "python",
   "name": "python3"
  },
  "language_info": {
   "codemirror_mode": {
    "name": "ipython",
    "version": 3
   },
   "file_extension": ".py",
   "mimetype": "text/x-python",
   "name": "python",
   "nbconvert_exporter": "python",
   "pygments_lexer": "ipython3",
   "version": "3.8.2"
  }
 },
 "nbformat": 4,
 "nbformat_minor": 4
}
