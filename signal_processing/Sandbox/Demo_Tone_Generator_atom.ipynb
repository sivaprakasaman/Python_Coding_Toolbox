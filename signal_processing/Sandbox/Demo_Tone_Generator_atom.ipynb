# %% markdown
# # Signal/Tone Generator Demo | BME 511 P1
# %% codecell
#imports needed
import numpy as np
import matplotlib.pyplot as plt

#Creating the Function:
def pure_tone_complex(freq_Hz, fs_Hz, dur_sec, amp, phi):
    #Returns an 1x2 array with signal and time

    #probably would be good to add some checks here

    samples = np.arange(0,fs_Hz*dur_sec)
    time_sec = samples/fs_Hz
    #Initializing Signal
    sig = [];

    for i in range(0,len(freq_Hz)):
        sig_temp = amp[i]*np.sin(2*np.pi*freq_Hz[i]*time_sec + phi[i])
        sig_arr = np.array(sig_temp)

        if i == 0:
            sig = np.array(sig_temp)
        else:
            sig = np.vstack((sig,sig_arr))

    sig_total = sig.sum(axis = 0)
    return([time_sec, sig_total])

#running function:

freq_Hz = [200, 200];
fs_Hz = 10000;
dur_sec = 1;
amp = [1, 1];
phi = [0, 0];

tone = pure_tone_complex(freq_Hz, fs_Hz, dur_sec, amp, phi)
plt.plot(tone[0],tone[1])
# %% codecell

# %% codecell
