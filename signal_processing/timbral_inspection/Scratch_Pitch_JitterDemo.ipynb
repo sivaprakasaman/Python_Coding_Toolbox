{
 "cells": [
  {
   "cell_type": "code",
   "execution_count": 1,
   "metadata": {},
   "outputs": [],
   "source": [
    "from resynthesize import extract_harmonics, resynthesize, play_alma_mater\n",
    "from signal_processing import pure_tone_complex, sound, magphase, get_spect\n",
    "import matplotlib.pyplot as plt\n",
    "import numpy as np"
   ]
  },
  {
   "cell_type": "code",
   "execution_count": 2,
   "metadata": {},
   "outputs": [],
   "source": [
    "harmonics = 20;\n",
    "first = 0;\n",
    "dur_sec = 1;\n",
    "toPlay = np.array(\n",
    "    [0,1,2,3,4,5,6,7,8,9,10,11])\n",
    "\n",
    "extract = extract_harmonics('instruments/clarinet_A4_normal.wav', fs = 44100, f_0 = 440, n_harms = harmonics);\n",
    "fs_Hz = extract[4];\n",
    "amp = extract[1][toPlay];\n",
    "phase = extract[2][toPlay];\n",
    "freq_Hz = extract[0][toPlay];\n",
    "\n",
    "t_vect = np.arange(0,dur_sec*fs_Hz)/fs_Hz;\n",
    "env_banj = np.exp(-9*t_vect);\n",
    "env_string = (1+0.15*np.sin(6*np.pi*2*t_vect))*np.sin(.5*np.pi*2*t_vect);\n",
    "\n",
    "\n",
    "freq_Hz = freq_Hz/2;\n",
    "\n",
    "tone = resynthesize(amp, 'violin_resolved.wav', fs_Hz = 44100,freq_Hz = freq_Hz, dur_sec = 1, phi = phase, \n",
    "        scale = 1, tone_shift = 1, env_fxn = env_string, type = 'sin', play_write = True, plot = False)\n",
    "sound(tone, fs_Hz)"
   ]
  },
  {
   "cell_type": "code",
   "execution_count": 3,
   "metadata": {},
   "outputs": [
    {
     "data": {
      "text/plain": [
       "12"
      ]
     },
     "execution_count": 3,
     "metadata": {},
     "output_type": "execute_result"
    }
   ],
   "source": [
    "freq_Hz\n",
    "len(amp)\n",
    "len(freq_Hz)"
   ]
  },
  {
   "cell_type": "code",
   "execution_count": 5,
   "metadata": {},
   "outputs": [
    {
     "name": "stdout",
     "output_type": "stream",
     "text": [
      "[0.00000000e+00 5.14799407e-05 1.05394059e-04 ... 3.23856334e-01\n",
      " 3.16295796e-01 3.08937082e-01]\n",
      "[0.00000000e+00 7.05096290e-05 1.44683855e-04 ... 7.51962202e-01\n",
      " 7.31808323e-01 7.11365789e-01]\n",
      "[ 0.00000000e+00  7.07229417e-05  1.45468699e-04 ... -4.31133544e-01\n",
      " -4.28467561e-01 -4.26326137e-01]\n",
      "[0.00000000e+00 5.20847778e-05 1.07254916e-04 ... 7.72361552e-01\n",
      " 8.07486208e-01 8.41200669e-01]\n",
      "[0.00000000e+00 1.90052611e-04 3.92468361e-04 ... 2.30587627e-01\n",
      " 2.22013325e-01 2.12529652e-01]\n",
      "[0.00000000e+00 7.13774716e-05 1.47780436e-04 ... 5.01950196e-01\n",
      " 4.77537847e-01 4.54956172e-01]\n"
     ]
    }
   ],
   "source": [
    "\n",
    "extract[0] = freq_Hz;\n",
    "extract[1] = amp;\n",
    "play_alma_mater(extract,freq_Hz, key=1);\n"
   ]
  }
 ],
 "metadata": {
  "kernelspec": {
   "display_name": "Python 3",
   "language": "python",
   "name": "python3"
  },
  "language_info": {
   "codemirror_mode": {
    "name": "ipython",
    "version": 3
   },
   "file_extension": ".py",
   "mimetype": "text/x-python",
   "name": "python",
   "nbconvert_exporter": "python",
   "pygments_lexer": "ipython3",
   "version": "3.9.4"
  }
 },
 "nbformat": 4,
 "nbformat_minor": 4
}
