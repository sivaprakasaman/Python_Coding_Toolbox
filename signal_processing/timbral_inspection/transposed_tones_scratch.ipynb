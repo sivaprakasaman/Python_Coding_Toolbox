{
 "cells": [
  {
   "cell_type": "markdown",
   "metadata": {},
   "source": [
    "# Transposed Tones:\n",
    "\n",
    "Transposed tones were used in:\n",
    "\n",
    "<i>Oxenham AJ, Bernstein JGW, Penagos H. Correct tonotopic representation is necessary for complex pitch perception. Proceedings of the National Academy of Sciences. 2004;101(5):1421-1425. doi:10.1073/pnas.0306958101</i> \n",
    "\n",
    "to result in comparable temporal coding at a different \"place\" in the cochlea. These transposed tones are created here using functions I've written in `resynthesize.py` and `signal_processing.py`. \n",
    "\n",
    "&copy; <i>Andrew Sivaprakasam 2021</i>"
   ]
  },
  {
   "cell_type": "markdown",
   "metadata": {},
   "source": [
    "## Imports & Formatting:"
   ]
  },
  {
   "cell_type": "code",
   "execution_count": 1,
   "metadata": {},
   "outputs": [
    {
     "data": {
      "text/html": [
       "<style>\n",
       ".output {\n",
       "    align-items: center;\n",
       "}\n",
       "</style>"
      ],
      "text/plain": [
       "<IPython.core.display.HTML object>"
      ]
     },
     "execution_count": 1,
     "metadata": {},
     "output_type": "execute_result"
    }
   ],
   "source": [
    "from signal_processing import pure_tone_complex, sound, magphase, get_spect, magphase\n",
    "import matplotlib.pyplot as plt\n",
    "from scipy.signal import spectrogram as sp\n",
    "import scipy as scip\n",
    "import numpy as np\n",
    "\n",
    "#Formatting (to center plots):\n",
    "from IPython.display import display, HTML\n",
    "\n",
    "CSS = \"\"\"\n",
    ".output {\n",
    "    align-items: center;\n",
    "}\n",
    "\"\"\"\n",
    "\n",
    "HTML('<style>{}</style>'.format(CSS))"
   ]
  },
  {
   "cell_type": "markdown",
   "metadata": {},
   "source": [
    "## Parameters and Stimulus Generation:"
   ]
  },
  {
   "cell_type": "code",
   "execution_count": 13,
   "metadata": {},
   "outputs": [],
   "source": [
    "fs = 44100\n",
    "fc = 4e3;\n",
    "freq_Hz = [250];\n",
    "dur_sec = 1;\n",
    "mags = [1];\n",
    "phi = [0];\n",
    "\n",
    "F_0 = pure_tone_complex(freq_Hz, fs, dur_sec, mags, phi)\n",
    "env = np.less(0,F_0[1])*F_0[1];\n",
    "\n",
    "\n",
    "car = pure_tone_complex([fc],fs,dur_sec,mags,phi);\n",
    "sos = scip.signal.butter(4,.2*fc,'low',fs = fs, output = 'sos');\n",
    "#env = scip.signal.sosfilt(sos,env);\n",
    "\n",
    "\n",
    "stim = env*car[1];"
   ]
  },
  {
   "cell_type": "markdown",
   "metadata": {},
   "source": [
    "## Plotting Waveform:"
   ]
  },
  {
   "cell_type": "code",
   "execution_count": 17,
   "metadata": {},
   "outputs": [],
   "source": [
    "plt.figure()\n",
    "plt.plot(F_0[0],env)\n",
    "plt.xlim([0/440,5/440])\n",
    "plt.title('Pure Tone');\n",
    "\n",
    "plt.figure()\n",
    "plt.plot(F_0[0],stim)\n",
    "plt.xlim([0/440,5/440])\n",
    "plt.title('Transposed Tone');"
   ]
  },
  {
   "cell_type": "markdown",
   "metadata": {},
   "source": [
    "## Plotting Spectrogram:"
   ]
  },
  {
   "cell_type": "code",
   "execution_count": 18,
   "metadata": {
    "tags": []
   },
   "outputs": [
    {
     "name": "stderr",
     "output_type": "stream",
     "text": [
      "/mnt/20D22780D22758F4/Shared/Code/Python_Coding_Toolbox/signal_processing/timbral_inspection/signal_processing.py:268: UserWarning: shading value 'goraud' not in list of valid values ['gouraud', 'nearest', 'flat', 'auto']. Setting shading='auto'.\n",
      "  plt.pcolormesh(t,f,Sgram_dB, shading = shading, cmap = colormap);\n"
     ]
    }
   ],
   "source": [
    "get_spect(stim, fs, DR = 220, BW = 80, xlim = [0,1], ylim = [0,8e3], \n",
    "          colormap = 'cividis', title = 'Spectrogram | Transposed Tone');"
   ]
  },
  {
   "cell_type": "markdown",
   "metadata": {},
   "source": [
    "## Playing Sound:"
   ]
  },
  {
   "cell_type": "code",
   "execution_count": 15,
   "metadata": {},
   "outputs": [],
   "source": [
    "sound(env,fs,fname = 'transposed.wav',savefile = 0)\n",
    "sound(.5*F_0[1],fs,fname = 'pure_440.wav',savefile = 0)"
   ]
  },
  {
   "cell_type": "markdown",
   "metadata": {},
   "source": [
    "## Testing Pitch Template Stims"
   ]
  },
  {
   "cell_type": "code",
   "execution_count": 16,
   "metadata": {},
   "outputs": [
    {
     "name": "stdout",
     "output_type": "stream",
     "text": [
      "Using matplotlib backend: TkAgg\n"
     ]
    },
    {
     "name": "stderr",
     "output_type": "stream",
     "text": [
      "/mnt/20D22780D22758F4/Shared/Code/Python_Coding_Toolbox/signal_processing/timbral_inspection/signal_processing.py:268: UserWarning: shading value 'goraud' not in list of valid values ['gouraud', 'nearest', 'flat', 'auto']. Setting shading='auto'.\n",
      "  plt.pcolormesh(t,f,Sgram_dB, shading = shading, cmap = colormap);\n"
     ]
    },
    {
     "data": {
      "text/plain": [
       "(<Figure size 432x288 with 2 Axes>,\n",
       " (<AxesSubplot:title={'center':'Magnitude/Phase - mag'}, ylabel='Magnitude'>,\n",
       "  <AxesSubplot:xlabel='Frequency (Hz)', ylabel='Phase (Deg)'>))"
      ]
     },
     "execution_count": 16,
     "metadata": {},
     "output_type": "execute_result"
    }
   ],
   "source": [
    "%matplotlib \n",
    "get_spect(env, fs, DR = 270, BW = 80, xlim = [0,1], ylim = [0,8e3], \n",
    "          colormap = 'cividis', title = 'Spectrogram | Non HWR')\n",
    "magphase(env,fs, x_axislim = [0,16000])"
   ]
  }
 ],
 "metadata": {
  "kernelspec": {
   "display_name": "Python 3",
   "language": "python",
   "name": "python3"
  },
  "language_info": {
   "codemirror_mode": {
    "name": "ipython",
    "version": 3
   },
   "file_extension": ".py",
   "mimetype": "text/x-python",
   "name": "python",
   "nbconvert_exporter": "python",
   "pygments_lexer": "ipython3",
   "version": "3.9.4"
  }
 },
 "nbformat": 4,
 "nbformat_minor": 4
}
