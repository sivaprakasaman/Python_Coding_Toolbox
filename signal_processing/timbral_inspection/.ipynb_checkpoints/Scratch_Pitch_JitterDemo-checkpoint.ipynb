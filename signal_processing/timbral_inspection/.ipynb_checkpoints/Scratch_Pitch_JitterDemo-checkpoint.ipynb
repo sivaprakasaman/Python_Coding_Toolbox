{
 "cells": [
  {
   "cell_type": "code",
   "execution_count": 1,
   "metadata": {},
   "outputs": [],
   "source": [
    "from resynthesize import extract_harmonics, resynthesize, play_alma_mater\n",
    "from signal_processing import pure_tone_complex, sound, magphase, get_spect\n",
    "import matplotlib.pyplot as plt\n",
    "import numpy as np"
   ]
  },
  {
   "cell_type": "code",
   "execution_count": 2,
   "metadata": {},
   "outputs": [],
   "source": [
    "harmonics = 20;\n",
    "first = 0;\n",
    "dur_sec = 1;\n",
    "toPlay = np.array(\n",
    "    [0,1,2,3,4,5,6,7,8,9,10,11])\n",
    "\n",
    "extract = extract_harmonics('instruments/clarinet_A4_normal.wav', fs = 44100, f_0 = 440, n_harms = harmonics);\n",
    "fs_Hz = extract[4];\n",
    "amp = extract[1][toPlay];\n",
    "phase = extract[2][toPlay];\n",
    "freq_Hz = extract[0][toPlay];\n",
    "\n",
    "t_vect = np.arange(0,dur_sec*fs_Hz)/fs_Hz;\n",
    "env_banj = np.exp(-9*t_vect);\n",
    "env_string = (1+0.15*np.sin(6*np.pi*2*t_vect))*np.sin(.5*np.pi*2*t_vect);\n",
    "\n",
    "\n",
    "freq_Hz = freq_Hz/2;\n",
    "\n",
    "tone = resynthesize(amp, 'violin_resolved.wav', fs_Hz = 44100,freq_Hz = freq_Hz, dur_sec = 1, phi = phase, \n",
    "        scale = 1, tone_shift = 1, env_fxn = env_string, type = 'sin', play_write = True, plot = False)\n",
    "sound(tone, fs_Hz)"
   ]
  },
  {
   "cell_type": "code",
   "execution_count": 3,
   "metadata": {},
   "outputs": [
    {
     "data": {
      "text/plain": [
       "12"
      ]
     },
     "execution_count": 3,
     "metadata": {},
     "output_type": "execute_result"
    }
   ],
   "source": [
    "freq_Hz\n",
    "len(amp)\n",
    "len(freq_Hz)"
   ]
  },
  {
   "cell_type": "code",
   "execution_count": 4,
   "metadata": {},
   "outputs": [
    {
     "name": "stdout",
     "output_type": "stream",
     "text": [
      "20\n",
      "[ 0.00000000e+00  5.28587182e-05  1.09918428e-04 ... -6.61560387e-02\n",
      " -9.50426326e-02 -1.24380508e-01]\n",
      "20\n",
      "[0.00000000e+00 7.25767948e-05 1.51275646e-04 ... 3.94775465e-01\n",
      " 3.72970066e-01 3.52679074e-01]\n",
      "20\n",
      "[ 0.00000000e+00  7.30176308e-05  1.52498336e-04 ... -1.15776741e-01\n",
      " -1.58688461e-01 -2.02836942e-01]\n",
      "20\n",
      "[0.00000000e+00 5.37714291e-05 1.12388905e-04 ... 6.60059443e-01\n",
      " 7.34003286e-01 8.06757225e-01]\n",
      "20\n",
      "[ 0.00000000e+00  1.97009562e-04  4.12310356e-04 ... -6.91836518e-01\n",
      " -6.83947388e-01 -6.70369055e-01]\n",
      "20\n",
      "[0.00000000e+00 7.42089106e-05 1.55354758e-04 ... 1.90534303e-01\n",
      " 1.69340962e-01 1.41114387e-01]\n"
     ]
    }
   ],
   "source": [
    "\n",
    "extract[0] = freq_Hz;\n",
    "extract[1] = amp;\n",
    "play_alma_mater(extract,freq_Hz, key=1);\n"
   ]
  }
 ],
 "metadata": {
  "kernelspec": {
   "display_name": "Python 3",
   "language": "python",
   "name": "python3"
  },
  "language_info": {
   "codemirror_mode": {
    "name": "ipython",
    "version": 3
   },
   "file_extension": ".py",
   "mimetype": "text/x-python",
   "name": "python",
   "nbconvert_exporter": "python",
   "pygments_lexer": "ipython3",
   "version": "3.9.4"
  }
 },
 "nbformat": 4,
 "nbformat_minor": 4
}
