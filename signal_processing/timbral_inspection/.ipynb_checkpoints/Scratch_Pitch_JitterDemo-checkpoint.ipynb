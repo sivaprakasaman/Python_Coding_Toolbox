{
 "cells": [
  {
   "cell_type": "code",
   "execution_count": 1,
   "metadata": {},
   "outputs": [],
   "source": [
    "from resynthesize import extract_harmonics, resynthesize, play_alma_mater\n",
    "from signal_processing import pure_tone_complex, sound, magphase, get_spect\n",
    "import matplotlib.pyplot as plt\n",
    "import numpy as np"
   ]
  },
  {
   "cell_type": "code",
   "execution_count": 2,
   "metadata": {},
   "outputs": [],
   "source": [
    "harmonics = 20;\n",
    "first = 0;\n",
    "dur_sec = 1;\n",
    "toPlay = np.array(\n",
    "    [0,1,2,3,4,5,6,7,8,9,10,11])\n",
    "\n",
    "extract = extract_harmonics('instruments/violin_A4_normal.wav', fs = 44100, f_0 = 440, n_harms = harmonics);\n",
    "fs_Hz = extract[4];\n",
    "amp = extract[1][toPlay];\n",
    "phase = extract[2][toPlay];\n",
    "freq_Hz = extract[0][toPlay];\n",
    "\n",
    "t_vect = np.arange(0,dur_sec*fs_Hz)/fs_Hz;\n",
    "env_banj = np.exp(-9*t_vect);\n",
    "env_string = (1+0.15*np.sin(6*np.pi*2*t_vect))*np.sin(.5*np.pi*2*t_vect);\n",
    "\n",
    "tone = resynthesize(amp, 'violin_resolved.wav', fs_Hz = 44100,freq_Hz = freq_Hz, dur_sec = 1, phi = phase, \n",
    "        scale = 1, tone_shift = 1, env_fxn = env_string, type = 'sin', play_write = True, plot = False)\n",
    "sound(tone, fs_Hz)"
   ]
  },
  {
   "cell_type": "code",
   "execution_count": 7,
   "metadata": {},
   "outputs": [
    {
     "name": "stdout",
     "output_type": "stream",
     "text": [
      "[ 0.00000000e+00  2.98202245e-05  7.47562310e-05 ... -3.51314493e-01\n",
      " -4.03370826e-01 -4.32030711e-01]\n",
      "[0.00000000e+00 4.21457004e-05 1.06088514e-04 ... 4.37304943e-01\n",
      " 4.34734095e-01 4.55359986e-01]\n",
      "[ 0.00000000e+00  4.35789535e-05  1.09757881e-04 ... -4.75520627e-01\n",
      " -5.07477633e-01 -4.95321468e-01]\n",
      "[ 0.00000000e+00  3.25180582e-05  8.18056943e-05 ... -2.24611201e-01\n",
      " -6.44906186e-02  1.33244060e-01]\n",
      "[ 0.00000000e+00  1.22963086e-04  3.07160274e-04 ...  1.21424637e-01\n",
      " -5.25460385e-02 -2.66148835e-01]\n",
      "[0.00000000e+00 4.78956962e-05 1.18175320e-04 ... 8.19759987e-01\n",
      " 6.93258389e-01 5.28884833e-01]\n"
     ]
    }
   ],
   "source": [
    "play_alma_mater(extract,[1], key=1, n_harms = 6);"
   ]
  }
 ],
 "metadata": {
  "kernelspec": {
   "display_name": "Python 3",
   "language": "python",
   "name": "python3"
  },
  "language_info": {
   "codemirror_mode": {
    "name": "ipython",
    "version": 3
   },
   "file_extension": ".py",
   "mimetype": "text/x-python",
   "name": "python",
   "nbconvert_exporter": "python",
   "pygments_lexer": "ipython3",
   "version": "3.9.4"
  }
 },
 "nbformat": 4,
 "nbformat_minor": 4
}
